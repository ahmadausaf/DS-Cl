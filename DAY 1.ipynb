{
 "cells": [
  {
   "cell_type": "markdown",
   "metadata": {},
   "source": [
    "**LIST**"
   ]
  },
  {
   "cell_type": "code",
   "execution_count": 2,
   "metadata": {},
   "outputs": [],
   "source": [
    " list1=[]\n",
    "list2=[1,2]\n",
    "list3=['a',1,'#']\n",
    "list4=list()\n",
    "list4=[1,2,3,4]\n"
   ]
  },
  {
   "cell_type": "code",
   "execution_count": 3,
   "metadata": {},
   "outputs": [
    {
     "name": "stdout",
     "output_type": "stream",
     "text": [
      "[] \n",
      " [1, 2] \n",
      " ['a', 1, '#'] \n",
      " [1, 2, 3, 4] \n",
      "\n"
     ]
    }
   ],
   "source": [
    " print(list1, '\\n', list2, '\\n', list3, '\\n', list4, '\\n')"
   ]
  },
  {
   "cell_type": "markdown",
   "metadata": {},
   "source": [
    "Exercise 1"
   ]
  },
  {
   "cell_type": "code",
   "execution_count": 4,
   "metadata": {},
   "outputs": [
    {
     "name": "stdout",
     "output_type": "stream",
     "text": [
      "['a', 'e', 'i', 'o', 'u']\n"
     ]
    }
   ],
   "source": [
    " # Exercise 1:\n",
    "# create and print a list whose elements are vowels and call this list my_list\n",
    "my_list=['a','e','i','o','u']\n",
    "print(my_list)"
   ]
  },
  {
   "cell_type": "code",
   "execution_count": 5,
   "metadata": {},
   "outputs": [
    {
     "name": "stdout",
     "output_type": "stream",
     "text": [
      "2 \n",
      " [2, 3] \n",
      " [1, 2, 3] \n",
      " [2, 3, 4] \n",
      " 4\n"
     ]
    }
   ],
   "source": [
    "#accessing item in a list\n",
    "#list_name[index]\n",
    "#list_name[start_index:end_index] #also called slicing\n",
    "print(list4[1], '\\n',\n",
    "list4[1:3], '\\n',\n",
    "list4[:3], '\\n',\n",
    "list4[1:], '\\n',\n",
    "list4[-1])"
   ]
  },
  {
   "cell_type": "code",
   "execution_count": 6,
   "metadata": {},
   "outputs": [
    {
     "data": {
      "text/plain": [
       "[1, 2, 3, 4, 'alpha']"
      ]
     },
     "execution_count": 6,
     "metadata": {},
     "output_type": "execute_result"
    }
   ],
   "source": [
    "#append(insert at end)\n",
    "#list_name.append(item)\n",
    "list4.append('alpha')\n",
    "list4\n"
   ]
  },
  {
   "cell_type": "markdown",
   "metadata": {},
   "source": [
    "Exercise 2"
   ]
  },
  {
   "cell_type": "code",
   "execution_count": null,
   "metadata": {},
   "outputs": [],
   "source": []
  },
  {
   "cell_type": "code",
   "execution_count": 13,
   "metadata": {},
   "outputs": [
    {
     "data": {
      "text/plain": [
       "['a', 'e', 'i', 'o', 'u', '2020', '2020', '2020', '2020', '2020', 2020]"
      ]
     },
     "execution_count": 13,
     "metadata": {},
     "output_type": "execute_result"
    }
   ],
   "source": [
    "# add a number 2020 in the end of list my_list\n",
    "my_list.insert(len(my_list),2020)\n",
    "my_list"
   ]
  },
  {
   "cell_type": "code",
   "execution_count": 14,
   "metadata": {},
   "outputs": [
    {
     "data": {
      "text/plain": [
       "[1, 2, 3, 4, 'alpha', 'new_element1', 'new_element2', 'new_element3']"
      ]
     },
     "execution_count": 14,
     "metadata": {},
     "output_type": "execute_result"
    }
   ],
   "source": [
    "#extend (insert multiple items simultaneously)\n",
    "#list_name.extend([list of items])\n",
    "list4.extend(['new_element1','new_element2', 'new_element3'])\n",
    "list4"
   ]
  },
  {
   "cell_type": "code",
   "execution_count": 15,
   "metadata": {},
   "outputs": [
    {
     "data": {
      "text/plain": [
       "[1, 2, 'beta', 3, 4, 'alpha', 'new_element1', 'new_element2', 'new_element3']"
      ]
     },
     "execution_count": 15,
     "metadata": {},
     "output_type": "execute_result"
    }
   ],
   "source": [
    "#insert at position\n",
    "#list_name.insert(position, value)\n",
    "list4.insert(2,'beta')\n",
    "list4"
   ]
  },
  {
   "cell_type": "markdown",
   "metadata": {},
   "source": [
    "Exercise 3"
   ]
  },
  {
   "cell_type": "code",
   "execution_count": 19,
   "metadata": {},
   "outputs": [
    {
     "data": {
      "text/plain": [
       "'2020'"
      ]
     },
     "execution_count": 19,
     "metadata": {},
     "output_type": "execute_result"
    }
   ],
   "source": [
    "# Replace 2020 by 2021 in my_list\n",
    "my_list[5]\n"
   ]
  },
  {
   "cell_type": "code",
   "execution_count": 20,
   "metadata": {},
   "outputs": [
    {
     "data": {
      "text/plain": [
       "['a', 'e', 'i', 'o', 'u', 2021, '2020', '2020', '2020', '2020', 2020]"
      ]
     },
     "execution_count": 20,
     "metadata": {},
     "output_type": "execute_result"
    }
   ],
   "source": [
    "my_list[5]=2021\n",
    "my_list"
   ]
  },
  {
   "cell_type": "code",
   "execution_count": 21,
   "metadata": {},
   "outputs": [
    {
     "name": "stdout",
     "output_type": "stream",
     "text": [
      "Before delete operation\n",
      "[1, 5, 8, 7] \n",
      " [1, 2, 'beta', 5, 'alpha', 'beta'] \n",
      " ['a', 1, '#'] \n",
      "\n",
      "After delete operation\n",
      "[1, 8, 7] \n",
      " [1, 2, 5, 'alpha', 'beta'] \n",
      " ['a', 1] \n",
      "\n"
     ]
    }
   ],
   "source": [
    "#delete\n",
    "#list_name.pop(index)\n",
    "#del list_name([start_index: end_index])\n",
    "#list_name.remove(item)\n",
    "list1=[1,5,8,7]\n",
    "list2=[1,2,'beta', 5, 'alpha', 'beta']\n",
    "list3=['a',1,'#']\n",
    "print('Before delete operation')\n",
    "print(list1, '\\n', list2, '\\n', list3, '\\n')\n",
    "list1.pop(1)\n",
    "list2.remove('beta') #removes the first occurrence of item\n",
    "del list3[-1]\n",
    "print('After delete operation')\n",
    "print(list1, '\\n', list2, '\\n', list3, '\\n')\n"
   ]
  },
  {
   "cell_type": "code",
   "execution_count": 22,
   "metadata": {},
   "outputs": [
    {
     "name": "stdout",
     "output_type": "stream",
     "text": [
      "Before reverse\n",
      "[1, 8, 7]\n",
      "\n",
      "After reverse\n",
      "[7, 8, 1]\n"
     ]
    }
   ],
   "source": [
    "#reverse\n",
    "#list_name.reverse()\n",
    "print('Before reverse')\n",
    "print(list1)\n",
    "print('\\nAfter reverse')\n",
    "list1.reverse()\n",
    "print(list1)\n"
   ]
  },
  {
   "cell_type": "code",
   "execution_count": 23,
   "metadata": {},
   "outputs": [
    {
     "name": "stdout",
     "output_type": "stream",
     "text": [
      "Before sorting\n",
      "[7, 8, 1]\n",
      "\n",
      "After sorting\n",
      "[1, 7, 8]\n"
     ]
    }
   ],
   "source": [
    "#sort\n",
    "#list_name.sort()\n",
    "print('Before sorting')\n",
    "print(list1)\n",
    "print('\\nAfter sorting')\n",
    "list1.sort()\n",
    "print(list1)\n"
   ]
  },
  {
   "cell_type": "code",
   "execution_count": 24,
   "metadata": {},
   "outputs": [
    {
     "data": {
      "text/plain": [
       "4"
      ]
     },
     "execution_count": 24,
     "metadata": {},
     "output_type": "execute_result"
    }
   ],
   "source": [
    "# length of list\n",
    "# len(list_name)\n",
    "list4 = [3,6,2,8]\n",
    "len(list4)\n"
   ]
  },
  {
   "cell_type": "code",
   "execution_count": 25,
   "metadata": {},
   "outputs": [
    {
     "name": "stdout",
     "output_type": "stream",
     "text": [
      "range(0, 5)\n",
      "range(3, 7)\n",
      "range(3, 9, 2)\n"
     ]
    }
   ],
   "source": [
    "# range(start_index, end_index,increment)\n",
    "# last index in range will less than end_index\n",
    "# default start index is zero\n",
    "print(range(5))\n",
    "print(range(3,7))\n",
    "print(range(3,9,2))\n"
   ]
  },
  {
   "cell_type": "code",
   "execution_count": 27,
   "metadata": {},
   "outputs": [
    {
     "name": "stdout",
     "output_type": "stream",
     "text": [
      "3\n",
      "6\n",
      "2\n",
      "8\n"
     ]
    }
   ],
   "source": [
    "# forward traversal\n",
    "# range(start_index, end_index)\n",
    "for i in range(len(list4)):\n",
    "   print(list4[i])\n"
   ]
  },
  {
   "cell_type": "code",
   "execution_count": 29,
   "metadata": {},
   "outputs": [
    {
     "name": "stdout",
     "output_type": "stream",
     "text": [
      "8\n",
      "2\n",
      "6\n",
      "3\n"
     ]
    }
   ],
   "source": [
    "# backward traversal\n",
    "# range(start_index, end_index, increment)\n",
    "for i in range(len(list4)-1,-1,-1):\n",
    "    print(list4[i])"
   ]
  },
  {
   "cell_type": "markdown",
   "metadata": {},
   "source": [
    "**2. STRING**"
   ]
  },
  {
   "cell_type": "code",
   "execution_count": 30,
   "metadata": {},
   "outputs": [
    {
     "name": "stdout",
     "output_type": "stream",
     "text": [
      "string1 \n",
      " string2 \n",
      "\n",
      "string\n",
      "3, in multiple\n",
      "lines\n"
     ]
    }
   ],
   "source": [
    "s1='string1'\n",
    "s2=\"string2\"\n",
    "s3='''string\n",
    "3, in multiple\n",
    "lines'''\n",
    "print(s1, '\\n' ,s2, '\\n')\n",
    "print(s3)\n"
   ]
  },
  {
   "cell_type": "code",
   "execution_count": 31,
   "metadata": {},
   "outputs": [
    {
     "data": {
      "text/plain": [
       "'string1string2'"
      ]
     },
     "execution_count": 31,
     "metadata": {},
     "output_type": "execute_result"
    }
   ],
   "source": [
    "# + operator is used for concatenation\n",
    "str_concat= s1+s2\n",
    "str_concat\n"
   ]
  },
  {
   "cell_type": "code",
   "execution_count": 32,
   "metadata": {},
   "outputs": [
    {
     "data": {
      "text/plain": [
       "'string1 string2'"
      ]
     },
     "execution_count": 32,
     "metadata": {},
     "output_type": "execute_result"
    }
   ],
   "source": [
    "# multiple string concatenation\n",
    "str_concat=s1+' '+s2\n",
    "str_concat"
   ]
  },
  {
   "cell_type": "markdown",
   "metadata": {},
   "source": [
    "**CASE FOLDING**"
   ]
  },
  {
   "cell_type": "code",
   "execution_count": 33,
   "metadata": {},
   "outputs": [
    {
     "data": {
      "text/plain": [
       "'string1 string2'"
      ]
     },
     "execution_count": 33,
     "metadata": {},
     "output_type": "execute_result"
    }
   ],
   "source": [
    "# convert to lower case\n",
    "str_concat.lower()\n"
   ]
  },
  {
   "cell_type": "code",
   "execution_count": 34,
   "metadata": {},
   "outputs": [
    {
     "data": {
      "text/plain": [
       "'STRING1 STRING2'"
      ]
     },
     "execution_count": 34,
     "metadata": {},
     "output_type": "execute_result"
    }
   ],
   "source": [
    "# convert to upper case\n",
    "str_concat.upper()\n"
   ]
  },
  {
   "cell_type": "markdown",
   "metadata": {},
   "source": [
    "**Split & Join**"
   ]
  },
  {
   "cell_type": "code",
   "execution_count": 35,
   "metadata": {},
   "outputs": [
    {
     "data": {
      "text/plain": [
       "['string1', 'string2']"
      ]
     },
     "execution_count": 35,
     "metadata": {},
     "output_type": "execute_result"
    }
   ],
   "source": [
    "# split a string\n",
    "# string_name.split(delimeter)\n",
    "# return type: List\n",
    "str_concat.split(' ')"
   ]
  },
  {
   "cell_type": "code",
   "execution_count": 36,
   "metadata": {},
   "outputs": [
    {
     "data": {
      "text/plain": [
       "'string1'"
      ]
     },
     "execution_count": 36,
     "metadata": {},
     "output_type": "execute_result"
    }
   ],
   "source": [
    "str_concat.split(' ')[0]\n"
   ]
  },
  {
   "cell_type": "code",
   "execution_count": 38,
   "metadata": {},
   "outputs": [
    {
     "data": {
      "text/plain": [
       "'string2'"
      ]
     },
     "execution_count": 38,
     "metadata": {},
     "output_type": "execute_result"
    }
   ],
   "source": [
    "str_concat.split(' ')[1]\n"
   ]
  },
  {
   "cell_type": "markdown",
   "metadata": {},
   "source": [
    "Exercise 4"
   ]
  },
  {
   "cell_type": "code",
   "execution_count": 39,
   "metadata": {},
   "outputs": [
    {
     "name": "stdout",
     "output_type": "stream",
     "text": [
      "Apple iPhone SE (Black, 64 GB)\n"
     ]
    }
   ],
   "source": [
    "# Split the string given below\n",
    "string ='Apple iPhone SE (Black, 64 GB)'\n",
    "print(string)"
   ]
  },
  {
   "cell_type": "code",
   "execution_count": 41,
   "metadata": {},
   "outputs": [
    {
     "data": {
      "text/plain": [
       "['Apple', 'iPhone', 'SE', '(Black,', '64', 'GB)']"
      ]
     },
     "execution_count": 41,
     "metadata": {},
     "output_type": "execute_result"
    }
   ],
   "source": [
    "string.split(' ')"
   ]
  },
  {
   "cell_type": "code",
   "execution_count": 42,
   "metadata": {},
   "outputs": [
    {
     "name": "stdout",
     "output_type": "stream",
     "text": [
      "Rs 10000\n"
     ]
    }
   ],
   "source": [
    "# Join the strings\n",
    "string = 'Rs 1,00,00'\n",
    "string = ''.join(string.split(','))\n",
    "print(string)"
   ]
  },
  {
   "cell_type": "markdown",
   "metadata": {},
   "source": [
    "**Strip the string**"
   ]
  },
  {
   "cell_type": "code",
   "execution_count": 43,
   "metadata": {},
   "outputs": [
    {
     "name": "stdout",
     "output_type": "stream",
     "text": [
      "xoxo love xoxo\n",
      "lov\n",
      " xoxo love xoxo \n",
      "droid is awesome\n"
     ]
    }
   ],
   "source": [
    "# strip a string\n",
    "# string_name.strip(delimeter)\n",
    "# return type: string\n",
    "string = ' xoxo love xoxo '\n",
    "# Leading and trailing whitespaces are removed\n",
    "print(string.strip())\n",
    "# All <whitespace>,x,o,e characters in the left and right of string are removed\n",
    "print(string.strip(' xoe'))\n",
    "# Argument doesn't contain space\n",
    "# No characters are removed.\n",
    "print(string.strip('stx'))\n",
    "string = 'android is awesome'\n",
    "print(string.strip('an'))\n"
   ]
  },
  {
   "cell_type": "code",
   "execution_count": 44,
   "metadata": {},
   "outputs": [
    {
     "data": {
      "text/plain": [
       "5"
      ]
     },
     "execution_count": 44,
     "metadata": {},
     "output_type": "execute_result"
    }
   ],
   "source": [
    "# length of string\n",
    "# len(string_name)\n",
    "str = \"India\"\n",
    "len(str)\n"
   ]
  },
  {
   "cell_type": "code",
   "execution_count": 46,
   "metadata": {},
   "outputs": [
    {
     "name": "stdout",
     "output_type": "stream",
     "text": [
      "I\n",
      "n\n",
      "d\n",
      "i\n",
      "a\n"
     ]
    }
   ],
   "source": [
    "# string traversal\n",
    "# range(start_index, end_index)\n",
    "for i in range(len(str)):\n",
    "    print(str[i])"
   ]
  },
  {
   "cell_type": "markdown",
   "metadata": {},
   "source": [
    "Exercise 5"
   ]
  },
  {
   "cell_type": "code",
   "execution_count": 47,
   "metadata": {},
   "outputs": [
    {
     "name": "stdout",
     "output_type": "stream",
     "text": [
      "CATERT\n"
     ]
    }
   ],
   "source": [
    "# Do Backward Travesal in the string given below\n",
    "str1 = 'CATERT'\n",
    "print(str1)"
   ]
  },
  {
   "cell_type": "code",
   "execution_count": 48,
   "metadata": {},
   "outputs": [
    {
     "name": "stdout",
     "output_type": "stream",
     "text": [
      "T\n",
      "R\n",
      "E\n",
      "T\n",
      "A\n",
      "C\n"
     ]
    }
   ],
   "source": [
    "for i in range(len(str1)-1,-1,-1):\n",
    "    print(str1[i])"
   ]
  },
  {
   "cell_type": "markdown",
   "metadata": {},
   "source": [
    "**3. REGULAR EXPRESSION** "
   ]
  },
  {
   "cell_type": "code",
   "execution_count": 50,
   "metadata": {},
   "outputs": [],
   "source": [
    "import re\n"
   ]
  },
  {
   "cell_type": "code",
   "execution_count": 51,
   "metadata": {},
   "outputs": [],
   "source": [
    "text='''In the early days, many language-processing systems were designed by␣\n",
    ",→handcoding a set of rules,[9],[10] e.g. by writing grammars or devising␣\n",
    ",→heuristic\n",
    "rules for stemming. However, this is rarely robust to natural language␣\n",
    ",→variation.\n",
    "Since the so-called \"statistical revolution\"[11][12] in the late 1980s␣\n",
    ",→and mid\n",
    "1990s, much natural language processing research has relied heavily on␣\n",
    ",→machine\n",
    "learning.The machine-learning paradigm calls instead for using␣\n",
    ",→statistical inference\n",
    "to automatically learn such rules through the analysis of large corpora␣\n",
    ",→of typical\n",
    "real-world examples (a corpus (plural, \"corpora\") is a set of␣\n",
    ",→documents, possibly\n",
    "with human or computer annotations).'''"
   ]
  },
  {
   "cell_type": "markdown",
   "metadata": {},
   "source": [
    "**RegEx Functions**"
   ]
  },
  {
   "cell_type": "code",
   "execution_count": 52,
   "metadata": {},
   "outputs": [
    {
     "data": {
      "text/plain": [
       "['language', 'language', 'language']"
      ]
     },
     "execution_count": 52,
     "metadata": {},
     "output_type": "execute_result"
    }
   ],
   "source": [
    "# findall\n",
    "# search and returns all the matches in the string\n",
    "re.findall(\"language\", text)\n"
   ]
  },
  {
   "cell_type": "code",
   "execution_count": 53,
   "metadata": {},
   "outputs": [
    {
     "data": {
      "text/plain": [
       "3"
      ]
     },
     "execution_count": 53,
     "metadata": {},
     "output_type": "execute_result"
    }
   ],
   "source": [
    " # search\n",
    "# search and return the location of first occurence\n",
    "# in the string\n",
    "x=re.search(\"the\", text)\n",
    "x.start()\n"
   ]
  },
  {
   "cell_type": "code",
   "execution_count": 54,
   "metadata": {},
   "outputs": [
    {
     "name": "stdout",
     "output_type": "stream",
     "text": [
      "Occurence of \"In\" in the text before replace: ['In']\n",
      "Occurence of \"In\" in the text after replace: []\n"
     ]
    }
   ],
   "source": [
    "# substitute\n",
    "# replace the text\n",
    "print('Occurence of \"In\" in the text before replace:',re.findall(\"In\", text))\n",
    "new_text=re.sub('In','alpha',text)\n",
    "print('Occurence of \"In\" in the text after replace:',re.findall(\"In\", new_text))"
   ]
  },
  {
   "cell_type": "markdown",
   "metadata": {},
   "source": [
    "Exercise 6"
   ]
  },
  {
   "cell_type": "code",
   "execution_count": 73,
   "metadata": {},
   "outputs": [
    {
     "data": {
      "text/plain": [
       "'Apple iPhone SE (Black/ 64 GB)'"
      ]
     },
     "execution_count": 73,
     "metadata": {},
     "output_type": "execute_result"
    }
   ],
   "source": [
    "# Replace comma(,) by the ( | ) in the string\n",
    "str = 'Apple iPhone SE (Black, 64 GB)'\n",
    "str.replace(\",\", \"/\")"
   ]
  },
  {
   "cell_type": "markdown",
   "metadata": {},
   "source": [
    "**Spell Checker**"
   ]
  },
  {
   "cell_type": "code",
   "execution_count": 76,
   "metadata": {},
   "outputs": [
    {
     "name": "stdout",
     "output_type": "stream",
     "text": [
      "group\n",
      "{'group', 'groin', 'ground', 'grout', 'groan', 'grown'}\n",
      "walk\n",
      "{'flak', 'walk', 'weak'}\n"
     ]
    }
   ],
   "source": [
    "from spellchecker import SpellChecker\n",
    "spell = SpellChecker()\n",
    "# find those words that may be misspelled\n",
    "misspelled = spell.unknown(['let', 'us', 'wlak','on','the','groun'])\n",
    "for word in misspelled:\n",
    "    \n",
    "# Get the one `most likely` answer\n",
    "    print(spell.correction(word))\n",
    "# Get a list of `likely` options\n",
    "    print(spell.candidates(word))\n"
   ]
  },
  {
   "cell_type": "code",
   "execution_count": null,
   "metadata": {},
   "outputs": [],
   "source": []
  }
 ],
 "metadata": {
  "kernelspec": {
   "display_name": "Python 3",
   "language": "python",
   "name": "python3"
  },
  "language_info": {
   "codemirror_mode": {
    "name": "ipython",
    "version": 3
   },
   "file_extension": ".py",
   "mimetype": "text/x-python",
   "name": "python",
   "nbconvert_exporter": "python",
   "pygments_lexer": "ipython3",
   "version": "3.8.3"
  }
 },
 "nbformat": 4,
 "nbformat_minor": 4
}
